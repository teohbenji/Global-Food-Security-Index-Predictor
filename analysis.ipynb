{
 "cells": [
  {
   "cell_type": "code",
   "execution_count": 2,
   "metadata": {},
   "outputs": [],
   "source": [
    "import pandas as pd\n",
    "import matplotlib.pyplot as plt\n",
    "import seaborn as sns\n",
    "import numpy as np"
   ]
  },
  {
   "cell_type": "code",
   "execution_count": 3,
   "metadata": {},
   "outputs": [],
   "source": [
    "uncleaned_df = pd.read_csv(\"dataset.csv\")\n",
    "# display(uncleaned_df)"
   ]
  },
  {
   "cell_type": "code",
   "execution_count": 4,
   "metadata": {},
   "outputs": [],
   "source": [
    "#Dataset cleaning\n",
    "\n",
    "#Rename columns to acronyms\n",
    "uncleaned_df = uncleaned_df.rename(columns={\n",
    "    'Global Food Security Index (GFSI)': 'GFSI',\n",
    "    'Human Development Index (HDI)': 'HDI',\n",
    "    'Corruption Index (CI)': 'CI',\n",
    "    'GDP per capita (GDP)': 'GDP',\n",
    "    'Cost of Living Index (COL)': 'COL',\n",
    "    'Healthcare Index (HI)': 'HI'\n",
    "})\n",
    "\n",
    "#Delete rows containing NaN values\n",
    "df = uncleaned_df.replace(\"-\", np.NaN).dropna()\n",
    "df = df.drop(['Country'], axis=1)\n",
    "\n",
    "df = df.astype(float) #convert all values in df to float\n",
    "# df\n"
   ]
  },
  {
   "cell_type": "code",
   "execution_count": 9,
   "metadata": {},
   "outputs": [],
   "source": [
    "# # Scatter chart showing relationship between HDI and GFSI\n",
    "\n",
    "# plt.scatter(df[\"HDI\"] ,df[\"GFSI\"])\n",
    "# plt.xlabel(\"HDI\")\n",
    "# plt.ylabel(\"GFSI\")\n",
    "# plt.title(\"HDI vs GFSI\")"
   ]
  },
  {
   "cell_type": "code",
   "execution_count": 11,
   "metadata": {},
   "outputs": [],
   "source": [
    "# #  Scatter chart showing relationship between CI and GFSI\n",
    "# plt.scatter(df[\"CI\"] ,df[\"GFSI\"])\n",
    "# plt.xlabel(\"CI\")\n",
    "# plt.ylabel(\"GFSI\")\n",
    "# plt.title(\"CI vs GFSI\")"
   ]
  },
  {
   "cell_type": "code",
   "execution_count": 13,
   "metadata": {},
   "outputs": [],
   "source": [
    "# # Scatter chart showing relationship between GDP and GFSI\n",
    "\n",
    "# plt.scatter(df[\"GDP\"] ,df[\"GFSI\"])\n",
    "# plt.xlabel(\"GDP\")\n",
    "# plt.ylabel(\"GFSI\")\n",
    "# plt.title(\"GDP vs GFSI\")"
   ]
  },
  {
   "cell_type": "code",
   "execution_count": 15,
   "metadata": {},
   "outputs": [],
   "source": [
    "# # Scatter chart showing relationship between COL and GFSI\n",
    "\n",
    "# plt.scatter(df[\"COL\"] ,df[\"GFSI\"])\n",
    "# plt.xlabel(\"COL\")\n",
    "# plt.ylabel(\"GFSI\")\n",
    "# plt.title(\"COL vs GFSI\")"
   ]
  },
  {
   "cell_type": "code",
   "execution_count": 17,
   "metadata": {},
   "outputs": [],
   "source": [
    "# # Scatter chart showing relationship between HI and GFSI\n",
    "\n",
    "# plt.scatter(df[\"HI\"] ,df[\"GFSI\"])\n",
    "# plt.xlabel(\"HI\")\n",
    "# plt.ylabel(\"GFSI\")\n",
    "# plt.title(\"HI vs GFSI\")"
   ]
  },
  {
   "cell_type": "code",
   "execution_count": null,
   "metadata": {},
   "outputs": [],
   "source": []
  }
 ],
 "metadata": {
  "kernelspec": {
   "display_name": "Python 3",
   "language": "python",
   "name": "python3"
  },
  "language_info": {
   "codemirror_mode": {
    "name": "ipython",
    "version": 3
   },
   "file_extension": ".py",
   "mimetype": "text/x-python",
   "name": "python",
   "nbconvert_exporter": "python",
   "pygments_lexer": "ipython3",
   "version": "3.10.7"
  }
 },
 "nbformat": 4,
 "nbformat_minor": 2
}
